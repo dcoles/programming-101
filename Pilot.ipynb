{
  "nbformat": 4,
  "nbformat_minor": 0,
  "metadata": {
    "colab": {
      "name": "Coding101-Pilot.ipynb",
      "provenance": [],
      "collapsed_sections": [],
      "toc_visible": true
    },
    "kernelspec": {
      "name": "python3",
      "display_name": "Python 3"
    }
  },
  "cells": [
    {
      "cell_type": "markdown",
      "metadata": {
        "id": "VQZPt5fb_PRZ"
      },
      "source": [
        "**To save your changes, make a personal copy of this workbook (`File > Save a copy in Drive`).**"
      ]
    },
    {
      "cell_type": "code",
      "metadata": {
        "id": "uqfQoV8MXxuQ"
      },
      "source": [
        "%pip install --quiet --upgrade git+https://github.com/dcoles/programming-101.git"
      ],
      "execution_count": null,
      "outputs": []
    },
    {
      "cell_type": "code",
      "metadata": {
        "id": "m0O7Ax-wYKFy"
      },
      "source": [
        "from programming_101.pilot import *"
      ],
      "execution_count": null,
      "outputs": []
    },
    {
      "cell_type": "markdown",
      "metadata": {
        "id": "PFRlY47HC8eH"
      },
      "source": [
        "# Lesson 0 (Pilot): Hello, world!"
      ]
    },
    {
      "cell_type": "markdown",
      "metadata": {
        "id": "ImvfQgJYlun1"
      },
      "source": [
        "## Introduction\r\n",
        "\r\n",
        "Hello, and welcome to Programming 101!\r\n",
        "\r\n",
        "If you've never written code or programmed before, this is the class for you!\r\n",
        "\r\n",
        "We want to start at the very beginning and make sure that everyone can come along for the ride! 🎢 "
      ]
    },
    {
      "cell_type": "markdown",
      "metadata": {
        "id": "tTgCAkuPDOyG"
      },
      "source": [
        "### Python\r\n",
        "**Programming** is the art of instructing a computer how to do something. However computers don't understand human languages very well, so we use a **programming language** to communicate with them.\r\n",
        "\r\n",
        "There are [hundreds of different programming languages](https://en.wikipedia.org/wiki/List_of_programming_languages), each with different strengths and goals. In this specific class we will be using a language called [Python](http://python.org/).\r\n",
        "\r\n",
        "![https://xkcd.com/353/](https://imgs.xkcd.com/comics/python.png)\r\n",
        "[*xkcd: Python*](https://xkcd.com/353/)\r\n",
        "\r\n",
        "Python is a popular, general purpose programming language that is used in fields ranging from data science to video game development. It has a well deserved reputation for being both easy to learn and for having a large ecosystem of libraries that let you do almost anything you can imagine. 🌠\r\n",
        "\r\n",
        "Like any new skill, the best way to learn is to practice and try things out.\r\n",
        "\r\n",
        "Not sure what will happen if you do something? Try it out!"
      ]
    },
    {
      "cell_type": "markdown",
      "metadata": {
        "id": "E6RZYz3yDRCa"
      },
      "source": [
        "### Colaboratory\r\n",
        "\r\n",
        "**Colaboratory** (or **Colab** for short), is web based environment for writing code in your browser. It allows writing workbooks (like this one!) which are a mixture of text and code.\r\n",
        "\r\n",
        "While we will use Colab in this class, it is also possible to run Python programs on your own computer by [downloading Python from python.org](https://www.python.org/downloads/).\r\n",
        "\r\n",
        "**⚠️ Important: You should only run code that you trust!** Just like any other program on the Internet, mallicious programs can steal information or damage files on your computer. Make sure you understand what a piece of code does before you run it!"
      ]
    },
    {
      "cell_type": "markdown",
      "metadata": {
        "id": "iRPyxI_Qm5jT"
      },
      "source": [
        "## Part 1: Python the Calculator 🧮\r\n",
        "\r\n",
        "[Try it out below](#scrollTo=KCce9fYWn7q-). Click on the `Run cell` (▶) button or click the cell and then press `Ctrl+Enter` to run (or \"execute\") the code in the cell.\r\n",
        "\r\n",
        "Congratulations! You've just run your first bit of Python code! 🎉"
      ]
    },
    {
      "cell_type": "code",
      "metadata": {
        "id": "KCce9fYWn7q-"
      },
      "source": [
        "1 + 1"
      ],
      "execution_count": null,
      "outputs": []
    },
    {
      "cell_type": "markdown",
      "metadata": {
        "id": "Qlz4VLM8o295"
      },
      "source": [
        "---\r\n",
        "\r\n",
        "OK! Let's imagine someone gave us a difficult maths equation to solve. Maybe something like this: \r\n",
        "\r\n",
        "> $\\dfrac{123456 + 654321}{6\\times7}$\r\n",
        "\r\n",
        "Instead of trying to solve this by hand, let's have the computer solve it for us! Python to the rescue! 🐍\r\n",
        "\r\n",
        "Here are the four basic maths operators:\r\n",
        "- Addition: `a + b` \r\n",
        "- Subtraction: `a - b`\r\n",
        "- Multiplication: `a * b`  (**Note:** Don't use the letter `x`!)\r\n",
        "- Division: `a / b`"
      ]
    },
    {
      "cell_type": "code",
      "metadata": {
        "id": "o6Wm9YuglNTq"
      },
      "source": [
        "%%Example1\r\n",
        "\r\n",
        "(12345 + 654321) / (6 * 7)"
      ],
      "execution_count": null,
      "outputs": []
    },
    {
      "cell_type": "markdown",
      "metadata": {
        "id": "MPh4MeKc_7EF"
      },
      "source": [
        "### 🤯 Did something go wrong?\r\n",
        "\r\n",
        "If you see a message like ```UsageError: Cell magic `%%Example1` not found.```, make sure you have run the first two cells in this workbook.\r\n",
        "\r\n",
        "You can run all previous cells with `Runtime > Run before (Ctrl+F8)`."
      ]
    },
    {
      "cell_type": "markdown",
      "metadata": {
        "id": "cGkGDTNRuwVo"
      },
      "source": [
        "### Exercise 1 ✏️\r\n",
        "\r\n",
        "What are the answers to the following equations? Replace `...` with your code to solve these equations.\r\n",
        "\r\n",
        "1. $783+295$\r\n",
        "2. $1 + 2 * 3 + 4 * 5 + 6 * 7 + 8 * 9$\r\n",
        "3. $\\dfrac{11}{9} - \\dfrac{28}{45} + \\dfrac{22}{5}$"
      ]
    },
    {
      "cell_type": "code",
      "metadata": {
        "id": "SKCQPsujxYwZ"
      },
      "source": [
        "%%Exercise1_1\r\n",
        "\r\n",
        "..."
      ],
      "execution_count": null,
      "outputs": []
    },
    {
      "cell_type": "code",
      "metadata": {
        "id": "OMTrZ_LSyD_j"
      },
      "source": [
        "%%Exercise1_2\r\n",
        "\r\n",
        "..."
      ],
      "execution_count": null,
      "outputs": []
    },
    {
      "cell_type": "code",
      "metadata": {
        "id": "wDCdOKlXyD0C"
      },
      "source": [
        "%%Exercise1_3\r\n",
        "\r\n",
        "..."
      ],
      "execution_count": null,
      "outputs": []
    },
    {
      "cell_type": "markdown",
      "metadata": {
        "id": "TT9SX5J2JBdv"
      },
      "source": [
        "### Questions\r\n",
        "\r\n",
        "1. Does adding whitespace make any difference? (e.g. `1+1` vs `1 + 1`)\r\n",
        "2. Does Python respect order-of-operations (Brackets, Multiplication/Division, Addition/Subtraction)?\r\n",
        "3. What happens if you write an invalid equation? (e.g. `1 / 0`)"
      ]
    },
    {
      "cell_type": "markdown",
      "metadata": {
        "id": "AhfFohffnu41"
      },
      "source": [
        "## Part 2: Python the Robot 🤖\r\n",
        "\r\n",
        "Computers are very good at following instructions. \r\n",
        "\r\n",
        "Unfortunately they need to be told exactly what to do.\r\n",
        "We call this *sequence of instructions* a **program**.\r\n",
        "\r\n",
        "Take a look at the program below and see if you can figure out what it might do."
      ]
    },
    {
      "cell_type": "code",
      "metadata": {
        "id": "PS5O3_Z-khmD"
      },
      "source": [
        "from programming_101.turtle import Turtle\r\n",
        "turtle = Turtle()\r\n",
        "\r\n",
        "turtle.stroke_color = 'red'\r\n",
        "turtle.fill_color = 'yellow'\r\n",
        "\r\n",
        "while True:\r\n",
        "    turtle.forward(200)\r\n",
        "    turtle.left(170)\r\n",
        "\r\n",
        "    # Is the turtle back home?\r\n",
        "    if abs(turtle.position) < 1:\r\n",
        "        # Break out of the while loop\r\n",
        "        break\r\n",
        "\r\n",
        "turtle.fill()\r\n",
        "turtle.stroke()"
      ],
      "execution_count": null,
      "outputs": []
    },
    {
      "cell_type": "markdown",
      "metadata": {
        "id": "b5KGCSP9L2GB"
      },
      "source": [
        "## Part 3: Whether Weather? ☔"
      ]
    }
  ]
}