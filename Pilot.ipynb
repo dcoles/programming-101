{
  "nbformat": 4,
  "nbformat_minor": 0,
  "metadata": {
    "colab": {
      "name": "Coding101-Pilot.ipynb",
      "provenance": [],
      "collapsed_sections": [],
      "toc_visible": true
    },
    "kernelspec": {
      "name": "python3",
      "display_name": "Python 3"
    }
  },
  "cells": [
    {
      "cell_type": "markdown",
      "metadata": {
        "id": "VQZPt5fb_PRZ"
      },
      "source": [
        "**To save your changes, make a personal copy of this workbook (`File > Save a copy in Drive`).**"
      ]
    },
    {
      "cell_type": "code",
      "metadata": {
        "id": "uqfQoV8MXxuQ"
      },
      "source": [
        "%pip install --quiet --upgrade git+https://github.com/dcoles/programming-101.git"
      ],
      "execution_count": null,
      "outputs": []
    },
    {
      "cell_type": "code",
      "metadata": {
        "id": "m0O7Ax-wYKFy"
      },
      "source": [
        "from programming_101.pilot import *"
      ],
      "execution_count": null,
      "outputs": []
    },
    {
      "cell_type": "markdown",
      "metadata": {
        "id": "ImvfQgJYlun1"
      },
      "source": [
        "# Lesson 1: Hello, world!\r\n",
        "\r\n",
        "In this class we will be using a programming language called [Python](http://python.org/)."
      ]
    },
    {
      "cell_type": "markdown",
      "metadata": {
        "id": "iRPyxI_Qm5jT"
      },
      "source": [
        "## Part 1: Python the Calculator 🧮\r\n",
        "\r\n",
        "[Try it out below](#scrollTo=KCce9fYWn7q-). Click on the `Run cell` (▶) button or click the cell and then press `Ctrl+Enter` to run (or \"execute\") the code in the cell.\r\n",
        "\r\n",
        "Congratulations! You've just run your first bit of Python code! 🎉"
      ]
    },
    {
      "cell_type": "code",
      "metadata": {
        "id": "KCce9fYWn7q-"
      },
      "source": [
        "1 + 1"
      ],
      "execution_count": null,
      "outputs": []
    },
    {
      "cell_type": "markdown",
      "metadata": {
        "id": "Qlz4VLM8o295"
      },
      "source": [
        "---\r\n",
        "\r\n",
        "OK! Let's imagine someone gave us a difficult maths equation to solve. Maybe something like this: \r\n",
        "\r\n",
        "> $\\dfrac{123456 + 654321}{6\\times7}$\r\n",
        "\r\n",
        "Instead of trying to solve this by hand, let's have the computer solve it for us! Python to the rescue! 🐍\r\n",
        "\r\n",
        "Here are the four basic maths operators:\r\n",
        "- Addition: `a + b` \r\n",
        "- Subtraction: `a - b`\r\n",
        "- Multiplication: `a * b`  (**Note:** Don't use the letter `x`!)\r\n",
        "- Division: `a / b`"
      ]
    },
    {
      "cell_type": "code",
      "metadata": {
        "id": "o6Wm9YuglNTq"
      },
      "source": [
        "%%Example1\r\n",
        "\r\n",
        "(12345 + 654321) / (6 * 7)"
      ],
      "execution_count": null,
      "outputs": []
    },
    {
      "cell_type": "markdown",
      "metadata": {
        "id": "cGkGDTNRuwVo"
      },
      "source": [
        "### Exercise 1 ✏️\r\n",
        "\r\n",
        "What are the answers to the following equations?\r\n",
        "\r\n",
        "1. $783+295$\r\n",
        "2. $1 + 2 * 3 + 4 * 5 + 6 * 7 + 8 * 9$\r\n",
        "3. $\\dfrac{11}{9} - \\dfrac{28}{45} + \\dfrac{22}{5}$"
      ]
    },
    {
      "cell_type": "code",
      "metadata": {
        "id": "SKCQPsujxYwZ"
      },
      "source": [
        "%%Exercise1_1\r\n",
        "\r\n",
        "..."
      ],
      "execution_count": null,
      "outputs": []
    },
    {
      "cell_type": "code",
      "metadata": {
        "id": "OMTrZ_LSyD_j"
      },
      "source": [
        "%%Exercise1_2\r\n",
        "\r\n",
        "..."
      ],
      "execution_count": null,
      "outputs": []
    },
    {
      "cell_type": "code",
      "metadata": {
        "id": "wDCdOKlXyD0C"
      },
      "source": [
        "%%Exercise1_3\r\n",
        "\r\n",
        "..."
      ],
      "execution_count": null,
      "outputs": []
    },
    {
      "cell_type": "markdown",
      "metadata": {
        "id": "AhfFohffnu41"
      },
      "source": [
        "## Part 2: Python the Robot 🤖\r\n",
        "\r\n",
        "Computers are very good at following instructions. \r\n",
        "\r\n",
        "Unfortunately they need to be told exactly what to do.\r\n",
        "We call this sequence of instructions **a program**."
      ]
    },
    {
      "cell_type": "code",
      "metadata": {
        "id": "PS5O3_Z-khmD"
      },
      "source": [
        "from programming_101.turtle import Turtle\r\n",
        "turtle = Turtle()\r\n",
        "\r\n",
        "turtle.stroke_color = 'red'\r\n",
        "turtle.fill_color = 'yellow'\r\n",
        "\r\n",
        "while True:\r\n",
        "    turtle.forward(200)\r\n",
        "    turtle.left(170)\r\n",
        "\r\n",
        "    # Is the turtle back home?\r\n",
        "    if abs(turtle.position) < 1:\r\n",
        "        # Break out of the while loop\r\n",
        "        break\r\n",
        "\r\n",
        "turtle.fill()\r\n",
        "turtle.stroke()"
      ],
      "execution_count": null,
      "outputs": []
    },
    {
      "cell_type": "code",
      "metadata": {
        "id": "uGDn7BUPk2le"
      },
      "source": [
        ""
      ],
      "execution_count": null,
      "outputs": []
    }
  ]
}